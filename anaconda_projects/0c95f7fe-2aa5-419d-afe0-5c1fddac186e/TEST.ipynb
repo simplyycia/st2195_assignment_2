{
 "cells": [
  {
   "cell_type": "code",
   "execution_count": 14,
   "id": "d8c3b93c-5f71-4c11-8b16-dd7f1adc7d80",
   "metadata": {},
   "outputs": [
    {
     "data": {
      "text/plain": [
       "['scrape_csv.py',\n",
       " '_test_here.txt',\n",
       " '.ipynb_checkpoints',\n",
       " 'wikipedia_example.csv']"
      ]
     },
     "execution_count": 14,
     "metadata": {},
     "output_type": "execute_result"
    }
   ],
   "source": [
    "import os\n",
    "os.getcwd()\n",
    "os.listdir()"
   ]
  },
  {
   "cell_type": "code",
   "execution_count": null,
   "id": "d3616526-49d0-479b-806a-154ddd07a6ab",
   "metadata": {},
   "outputs": [],
   "source": []
  }
 ],
 "metadata": {
  "kernelspec": {
   "display_name": "Python [conda env:base] *",
   "language": "python",
   "name": "conda-base-py"
  },
  "language_info": {
   "codemirror_mode": {
    "name": "ipython",
    "version": 3
   },
   "file_extension": ".py",
   "mimetype": "text/x-python",
   "name": "python",
   "nbconvert_exporter": "python",
   "pygments_lexer": "ipython3",
   "version": "3.13.5"
  }
 },
 "nbformat": 4,
 "nbformat_minor": 5
}
