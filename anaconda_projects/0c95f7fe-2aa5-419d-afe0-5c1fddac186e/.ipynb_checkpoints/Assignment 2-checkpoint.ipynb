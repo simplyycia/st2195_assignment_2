{
 "cells": [
  {
   "cell_type": "code",
   "execution_count": 2,
   "id": "0258d5cd-864c-4ef7-bb2e-3fc4197e8f31",
   "metadata": {},
   "outputs": [
    {
     "name": "stdout",
     "output_type": "stream",
     "text": [
      "\u001b[34mCERTS\u001b[m\u001b[m                 \u001b[34mMy Tableau Repository\u001b[m\u001b[m no.game\n",
      "\u001b[30m\u001b[43mDigital Editions\u001b[m\u001b[m      \u001b[34mSCHOOL\u001b[m\u001b[m                \u001b[34mpythonProjects\u001b[m\u001b[m\n"
     ]
    }
   ],
   "source": [
    "!ls \"/Users/staciatan/Documents\""
   ]
  },
  {
   "cell_type": "code",
   "execution_count": 6,
   "id": "7665ed03-bb93-41ef-95db-cc348aabcd14",
   "metadata": {},
   "outputs": [
    {
     "data": {
      "text/plain": [
       "[]"
      ]
     },
     "execution_count": 6,
     "metadata": {},
     "output_type": "execute_result"
    }
   ],
   "source": [
    "import os\n",
    "os.chdir(\"/Users/staciatan/Documents/SCHOOL/ST2195 Programming/Assignments/ST2195_assignment_2/python_csv\")\n",
    "os.getcwd()\n",
    "os.listdir()"
   ]
  },
  {
   "cell_type": "code",
   "execution_count": 8,
   "id": "0225bd3a-0021-4937-a4bd-1381b8060b47",
   "metadata": {},
   "outputs": [
    {
     "name": "stdout",
     "output_type": "stream",
     "text": [
      "/Users/staciatan/Documents/SCHOOL/ST2195 Programming/Assignments/ST2195_assignment_2/python_csv\n",
      "total 0\n",
      "drwxr-xr-x  2 staciatan  staff   64 Oct 29 01:05 \u001b[34m.\u001b[m\u001b[m/\n",
      "drwxr-xr-x  5 staciatan  staff  160 Oct 31 01:58 \u001b[34m..\u001b[m\u001b[m/\n"
     ]
    }
   ],
   "source": [
    "%cd \"/Users/staciatan/Documents/SCHOOL/ST2195 Programming/Assignments/st2195_assignment_2/python_csv\"\n",
    "%pwd\n",
    "%ls -la"
   ]
  },
  {
   "cell_type": "code",
   "execution_count": 10,
   "id": "3d83c51d-c03d-483c-b9b8-7ba9e1f66463",
   "metadata": {},
   "outputs": [
    {
     "data": {
      "text/plain": [
       "[PosixPath('_test_here.txt')]"
      ]
     },
     "execution_count": 10,
     "metadata": {},
     "output_type": "execute_result"
    }
   ],
   "source": [
    "from pathlib import Path\n",
    "Path(\"_test_here.txt\").write_text(\"hello from python_csv\\n\")\n",
    "list(Path(\".\").iterdir())"
   ]
  },
  {
   "cell_type": "code",
   "execution_count": 12,
   "id": "b74d0628-9975-4622-bc49-af9554a3942b",
   "metadata": {},
   "outputs": [
    {
     "data": {
      "text/plain": [
       "['/Users/staciatan/scrape_csv.py']"
      ]
     },
     "execution_count": 12,
     "metadata": {},
     "output_type": "execute_result"
    }
   ],
   "source": [
    "# Find all copies of scrape_csv.py anywhere under your user folder\n",
    "import glob\n",
    "hits = glob.glob(\"/Users/staciatan/**/scrape_csv.py\", recursive=True)\n",
    "hits"
   ]
  },
  {
   "cell_type": "code",
   "execution_count": 13,
   "id": "2bc83ba2-2c9a-4053-87f2-e9707e441cb1",
   "metadata": {},
   "outputs": [
    {
     "name": "stdout",
     "output_type": "stream",
     "text": [
      "Deleted old stray file ✅\n"
     ]
    }
   ],
   "source": [
    "import os\n",
    "os.remove(\"/Users/staciatan/scrape_csv.py\")\n",
    "print(\"Deleted old stray file ✅\")"
   ]
  },
  {
   "cell_type": "code",
   "execution_count": 14,
   "id": "c7e5c0e0-7ab0-4cf4-bfcd-27df173dbe1d",
   "metadata": {},
   "outputs": [
    {
     "name": "stdout",
     "output_type": "stream",
     "text": [
      "/Users/staciatan/Documents/SCHOOL/ST2195 Programming/Assignments/ST2195_assignment_2/python_csv\n"
     ]
    },
    {
     "data": {
      "text/plain": [
       "'/Users/staciatan/Documents/SCHOOL/ST2195 Programming/Assignments/ST2195_assignment_2/python_csv'"
      ]
     },
     "execution_count": 14,
     "metadata": {},
     "output_type": "execute_result"
    }
   ],
   "source": [
    "%cd \"/Users/staciatan/Documents/SCHOOL/ST2195 Programming/Assignments/st2195_assignment_2/python_csv\"\n",
    "%pwd"
   ]
  },
  {
   "cell_type": "code",
   "execution_count": 15,
   "id": "23adbad0-2621-4e04-a538-edc32da9aaca",
   "metadata": {},
   "outputs": [
    {
     "name": "stdout",
     "output_type": "stream",
     "text": [
      "✅ File created in: /Users/staciatan/Documents/SCHOOL/ST2195 Programming/Assignments/ST2195_assignment_2/python_csv\n",
      "['scrape_csv.py', '_test_here.txt']\n"
     ]
    }
   ],
   "source": [
    "code = \"\"\"# scrape_csv.py\n",
    "print(\"hello from the correct folder!\")\n",
    "\"\"\"\n",
    "with open(\"scrape_csv.py\", \"w\") as f:\n",
    "    f.write(code)\n",
    "\n",
    "print(\"✅ File created in:\", os.getcwd())\n",
    "print(os.listdir())"
   ]
  },
  {
   "cell_type": "code",
   "execution_count": 19,
   "id": "5e33d755-2077-4287-879f-141a68e2240e",
   "metadata": {},
   "outputs": [
    {
     "name": "stdout",
     "output_type": "stream",
     "text": [
      "✅ Saved CSV to: wikipedia_example.csv\n",
      "✅ Successfully read CSV into DataFrame:\n",
      "       Date                Pupil Grade\n",
      "0    25 May         Bloggs, Fred     C\n",
      "1    25 May            Doe, Jane     B\n",
      "2   15 July         Bloggs, Fred     A\n",
      "3  15 April  Muniz, Alvin \"Hank\"     A\n"
     ]
    }
   ],
   "source": [
    "!python3 scrape_csv.py"
   ]
  },
  {
   "cell_type": "code",
   "execution_count": 20,
   "id": "d813e07d-c1ee-471e-82a3-7255fe7b2bf1",
   "metadata": {},
   "outputs": [
    {
     "data": {
      "text/plain": [
       "['scrape_csv.py', '_test_here.txt', 'wikipedia_example.csv']"
      ]
     },
     "execution_count": 20,
     "metadata": {},
     "output_type": "execute_result"
    }
   ],
   "source": [
    "import os\n",
    "os.listdir()"
   ]
  },
  {
   "cell_type": "code",
   "execution_count": 22,
   "id": "f8228c86-de20-44a1-be7d-fdad1501c7f2",
   "metadata": {},
   "outputs": [
    {
     "data": {
      "text/html": [
       "<div>\n",
       "<style scoped>\n",
       "    .dataframe tbody tr th:only-of-type {\n",
       "        vertical-align: middle;\n",
       "    }\n",
       "\n",
       "    .dataframe tbody tr th {\n",
       "        vertical-align: top;\n",
       "    }\n",
       "\n",
       "    .dataframe thead th {\n",
       "        text-align: right;\n",
       "    }\n",
       "</style>\n",
       "<table border=\"1\" class=\"dataframe\">\n",
       "  <thead>\n",
       "    <tr style=\"text-align: right;\">\n",
       "      <th></th>\n",
       "      <th>Date</th>\n",
       "      <th>Pupil</th>\n",
       "      <th>Grade</th>\n",
       "    </tr>\n",
       "  </thead>\n",
       "  <tbody>\n",
       "    <tr>\n",
       "      <th>0</th>\n",
       "      <td>25 May</td>\n",
       "      <td>Bloggs, Fred</td>\n",
       "      <td>C</td>\n",
       "    </tr>\n",
       "    <tr>\n",
       "      <th>1</th>\n",
       "      <td>25 May</td>\n",
       "      <td>Doe, Jane</td>\n",
       "      <td>B</td>\n",
       "    </tr>\n",
       "    <tr>\n",
       "      <th>2</th>\n",
       "      <td>15 July</td>\n",
       "      <td>Bloggs, Fred</td>\n",
       "      <td>A</td>\n",
       "    </tr>\n",
       "    <tr>\n",
       "      <th>3</th>\n",
       "      <td>15 April</td>\n",
       "      <td>Muniz, Alvin \"Hank\"</td>\n",
       "      <td>A</td>\n",
       "    </tr>\n",
       "  </tbody>\n",
       "</table>\n",
       "</div>"
      ],
      "text/plain": [
       "       Date                Pupil Grade\n",
       "0    25 May         Bloggs, Fred     C\n",
       "1    25 May            Doe, Jane     B\n",
       "2   15 July         Bloggs, Fred     A\n",
       "3  15 April  Muniz, Alvin \"Hank\"     A"
      ]
     },
     "execution_count": 22,
     "metadata": {},
     "output_type": "execute_result"
    }
   ],
   "source": [
    "import pandas as pd\n",
    "pd.read_csv(\"wikipedia_example.csv\").head()"
   ]
  },
  {
   "cell_type": "code",
   "execution_count": 1,
   "id": "e3875bcc-3994-48c1-b78b-3c5a365f2a21",
   "metadata": {},
   "outputs": [
    {
     "name": "stdout",
     "output_type": "stream",
     "text": [
      "/Users/staciatan/Documents/SCHOOL/ST2195 Programming/Assignments/ST2195_assignment_2\n"
     ]
    }
   ],
   "source": [
    "%cd \"/Users/staciatan/Documents/SCHOOL/ST2195 Programming/Assignments/ST2195_assignment_2\""
   ]
  },
  {
   "cell_type": "code",
   "execution_count": null,
   "id": "786d6df6-221b-4748-b5d3-1a7529c59786",
   "metadata": {},
   "outputs": [],
   "source": []
  }
 ],
 "metadata": {
  "kernelspec": {
   "display_name": "Python [conda env:base] *",
   "language": "python",
   "name": "conda-base-py"
  },
  "language_info": {
   "codemirror_mode": {
    "name": "ipython",
    "version": 3
   },
   "file_extension": ".py",
   "mimetype": "text/x-python",
   "name": "python",
   "nbconvert_exporter": "python",
   "pygments_lexer": "ipython3",
   "version": "3.13.5"
  }
 },
 "nbformat": 4,
 "nbformat_minor": 5
}
